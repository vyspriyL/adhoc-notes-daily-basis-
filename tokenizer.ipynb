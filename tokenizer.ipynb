{
  "nbformat": 4,
  "nbformat_minor": 0,
  "metadata": {
    "colab": {
      "name": "tokenizer.ipynb",
      "version": "0.3.2",
      "provenance": [],
      "collapsed_sections": [],
      "include_colab_link": true
    },
    "kernelspec": {
      "name": "python3",
      "display_name": "Python 3"
    }
  },
  "cells": [
    {
      "cell_type": "markdown",
      "metadata": {
        "id": "view-in-github",
        "colab_type": "text"
      },
      "source": [
        "<a href=\"https://colab.research.google.com/github/vyspriyL/adhoc-notes-daily-basis-/blob/master/tokenizer.ipynb\" target=\"_parent\"><img src=\"https://colab.research.google.com/assets/colab-badge.svg\" alt=\"Open In Colab\"/></a>"
      ]
    },
    {
      "cell_type": "code",
      "metadata": {
        "id": "VWvg0hmvQf9x",
        "colab_type": "code",
        "colab": {}
      },
      "source": [
        "msg='''\n",
        "my name is priyal vyas.I am from bhilwara. I am pursuing my degree from singhania university,in b tech (computer science).my interest are sketching,listening song.i love to spend time with my family.I love my family very much.\n",
        "I love cats!sometimes i get angry on small things but later on I fix out everything at my own.I have one younger brother.He is very naughty.My hobbies are painting,travelling,listening songs.\n",
        "I want to become an engineer.my favorite colour is black and purple.I love to eat spicy food.\n",
        "'''`\n",
        "\n"
      ],
      "execution_count": 0,
      "outputs": []
    },
    {
      "cell_type": "markdown",
      "metadata": {
        "id": "GflYd_PfTKWN",
        "colab_type": "text"
      },
      "source": [
        "\n"
      ]
    },
    {
      "cell_type": "code",
      "metadata": {
        "id": "2zw2vZ7IZgIy",
        "colab_type": "code",
        "colab": {}
      },
      "source": [
        "# import tokenizer\n",
        "from nltk.tokenize import sent_tokenize\n",
        "from nltk.tokenize import word_tokenize"
      ],
      "execution_count": 0,
      "outputs": []
    },
    {
      "cell_type": "code",
      "metadata": {
        "id": "vKnib_I9aGWN",
        "colab_type": "code",
        "colab": {}
      },
      "source": [
        "# sentence tokenize\n",
        "sent=sent_tokenize(msg)\n",
        "\n",
        "  \n",
        "  \n"
      ],
      "execution_count": 0,
      "outputs": []
    },
    {
      "cell_type": "code",
      "metadata": {
        "id": "nHB3IRC5aelK",
        "colab_type": "code",
        "colab": {}
      },
      "source": [
        "import nltk"
      ],
      "execution_count": 0,
      "outputs": []
    },
    {
      "cell_type": "code",
      "metadata": {
        "id": "1EjoLFNHbDNo",
        "colab_type": "code",
        "outputId": "f60c6bfc-da4f-400f-ee54-0caaf8924c05",
        "colab": {
          "base_uri": "https://localhost:8080/",
          "height": 68
        }
      },
      "source": [
        "nltk.download('punkt')"
      ],
      "execution_count": 0,
      "outputs": [
        {
          "output_type": "stream",
          "text": [
            "[nltk_data] Downloading package punkt to /root/nltk_data...\n",
            "[nltk_data]   Unzipping tokenizers/punkt.zip.\n"
          ],
          "name": "stdout"
        },
        {
          "output_type": "execute_result",
          "data": {
            "text/plain": [
              "True"
            ]
          },
          "metadata": {
            "tags": []
          },
          "execution_count": 11
        }
      ]
    },
    {
      "cell_type": "code",
      "metadata": {
        "id": "VXKO-EBZbIV-",
        "colab_type": "code",
        "outputId": "0ce7a6cd-6c3e-4cbe-9832-a76ac72f1345",
        "colab": {
          "base_uri": "https://localhost:8080/",
          "height": 105
        }
      },
      "source": [
        "sent"
      ],
      "execution_count": 0,
      "outputs": [
        {
          "output_type": "execute_result",
          "data": {
            "text/plain": [
              "['\\nmy name is priyal vyas.I am from bhilwara.',\n",
              " 'I am pursuing my degree from singhania university,in b tech (computer science).my interest are sketching,listening song.i love to spend time with my family.I love my family very much.',\n",
              " 'I love cats!sometimes i get angry on small things but later on I fix out everything at my own.I have one younger brother.He is very naughty.My hobbies are painting,travelling,listening songs.',\n",
              " 'I want to become an engineer.my favorite colour is black and purple.I love to eat spicy food.']"
            ]
          },
          "metadata": {
            "tags": []
          },
          "execution_count": 13
        }
      ]
    },
    {
      "cell_type": "code",
      "metadata": {
        "id": "e_VcfgYubPcI",
        "colab_type": "code",
        "colab": {}
      },
      "source": [
        "# now word tokenizer\n",
        "word=word_tokenize(msg)"
      ],
      "execution_count": 0,
      "outputs": []
    },
    {
      "cell_type": "code",
      "metadata": {
        "id": "Y0JZ_421bcl9",
        "colab_type": "code",
        "outputId": "45f08d43-6d2d-40e8-d93a-529d86a2e3f2",
        "colab": {
          "base_uri": "https://localhost:8080/",
          "height": 34
        }
      },
      "source": [
        "len(word)"
      ],
      "execution_count": 0,
      "outputs": [
        {
          "output_type": "execute_result",
          "data": {
            "text/plain": [
              "100"
            ]
          },
          "metadata": {
            "tags": []
          },
          "execution_count": 15
        }
      ]
    },
    {
      "cell_type": "code",
      "metadata": {
        "id": "qqN3rK_0bhkl",
        "colab_type": "code",
        "colab": {}
      },
      "source": [
        "from nltk.corpus import stopwords"
      ],
      "execution_count": 0,
      "outputs": []
    },
    {
      "cell_type": "code",
      "metadata": {
        "id": "8QZO-ABvbrH0",
        "colab_type": "code",
        "colab": {}
      },
      "source": [
        "new_words=[ i for i \n",
        "           in word if i.lower() not in stopwords.words('english')]"
      ],
      "execution_count": 0,
      "outputs": []
    },
    {
      "cell_type": "code",
      "metadata": {
        "id": "76AMqCU6cF5N",
        "colab_type": "code",
        "colab": {}
      },
      "source": [
        ""
      ],
      "execution_count": 0,
      "outputs": []
    }
  ]
}