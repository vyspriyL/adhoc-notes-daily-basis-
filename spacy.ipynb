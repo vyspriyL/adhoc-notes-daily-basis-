{
  "nbformat": 4,
  "nbformat_minor": 0,
  "metadata": {
    "colab": {
      "name": "spacy.ipynb",
      "version": "0.3.2",
      "provenance": [],
      "include_colab_link": true
    },
    "kernelspec": {
      "name": "python3",
      "display_name": "Python 3"
    }
  },
  "cells": [
    {
      "cell_type": "markdown",
      "metadata": {
        "id": "view-in-github",
        "colab_type": "text"
      },
      "source": [
        "<a href=\"https://colab.research.google.com/github/vyspriyL/adhoc-notes-daily-basis-/blob/master/spacy.ipynb\" target=\"_parent\"><img src=\"https://colab.research.google.com/assets/colab-badge.svg\" alt=\"Open In Colab\"/></a>"
      ]
    },
    {
      "cell_type": "code",
      "metadata": {
        "id": "tiuXvcgmeebg",
        "colab_type": "code",
        "colab": {}
      },
      "source": [
        "import spacy"
      ],
      "execution_count": 0,
      "outputs": []
    },
    {
      "cell_type": "code",
      "metadata": {
        "id": "VVeScFZ6ehcd",
        "colab_type": "code",
        "colab": {}
      },
      "source": [
        "# language en-\n",
        "nlp=spacy.load('en')"
      ],
      "execution_count": 0,
      "outputs": []
    },
    {
      "cell_type": "code",
      "metadata": {
        "id": "PqQ_MG4letbd",
        "colab_type": "code",
        "colab": {}
      },
      "source": [
        "data=\"hello my name is priyal vyas.I am from bhilwara\""
      ],
      "execution_count": 0,
      "outputs": []
    },
    {
      "cell_type": "code",
      "metadata": {
        "id": "AbDPDHGgfQEd",
        "colab_type": "code",
        "colab": {
          "base_uri": "https://localhost:8080/",
          "height": 34
        },
        "outputId": "ff22e937-ba7b-4525-961c-25242f4cab2e"
      },
      "source": [
        "nlp(data)"
      ],
      "execution_count": 4,
      "outputs": [
        {
          "output_type": "execute_result",
          "data": {
            "text/plain": [
              "hello my name is priyal vyas.I am from bhilwara"
            ]
          },
          "metadata": {
            "tags": []
          },
          "execution_count": 4
        }
      ]
    },
    {
      "cell_type": "code",
      "metadata": {
        "id": "3fntmQeqfSDt",
        "colab_type": "code",
        "colab": {}
      },
      "source": [
        "new_data=nlp(data)   # automatic tokenize"
      ],
      "execution_count": 0,
      "outputs": []
    },
    {
      "cell_type": "code",
      "metadata": {
        "id": "C8A7zeHsfV-J",
        "colab_type": "code",
        "colab": {
          "base_uri": "https://localhost:8080/",
          "height": 204
        },
        "outputId": "438a4426-dc53-4d4a-ca41-f9c6a4432cd6"
      },
      "source": [
        "for i in new_data:\n",
        "  print(i,\"lemmatization of word is--->\",i.lemma_)"
      ],
      "execution_count": 9,
      "outputs": [
        {
          "output_type": "stream",
          "text": [
            "hello lemmatization of word is---> hello\n",
            "my lemmatization of word is---> -PRON-\n",
            "name lemmatization of word is---> name\n",
            "is lemmatization of word is---> be\n",
            "priyal lemmatization of word is---> priyal\n",
            "vyas lemmatization of word is---> vyas\n",
            ". lemmatization of word is---> .\n",
            "I lemmatization of word is---> -PRON-\n",
            "am lemmatization of word is---> be\n",
            "from lemmatization of word is---> from\n",
            "bhilwara lemmatization of word is---> bhilwara\n"
          ],
          "name": "stdout"
        }
      ]
    },
    {
      "cell_type": "code",
      "metadata": {
        "id": "2aKrA980fa3d",
        "colab_type": "code",
        "colab": {
          "base_uri": "https://localhost:8080/",
          "height": 51
        },
        "outputId": "2d218a30-bdfb-468a-c278-014fcf5c43d5"
      },
      "source": [
        "print(\"#####################\")\n",
        "print(i,\"POS\",i.pos_)"
      ],
      "execution_count": 11,
      "outputs": [
        {
          "output_type": "stream",
          "text": [
            "#####################\n",
            "bhilwara POS NOUN\n"
          ],
          "name": "stdout"
        }
      ]
    },
    {
      "cell_type": "code",
      "metadata": {
        "id": "oXX5DCxqgR1l",
        "colab_type": "code",
        "colab": {
          "base_uri": "https://localhost:8080/",
          "height": 51
        },
        "outputId": "0ff74e27-47f5-40af-a8ed-88ae1cbffe85"
      },
      "source": [
        "from nltk.corpus import wordnet\n",
        "import nltk\n",
        "nltk.download('wordnet')\n",
        "import time\n"
      ],
      "execution_count": 23,
      "outputs": [
        {
          "output_type": "stream",
          "text": [
            "[nltk_data] Downloading package wordnet to /root/nltk_data...\n",
            "[nltk_data]   Package wordnet is already up-to-date!\n"
          ],
          "name": "stdout"
        }
      ]
    },
    {
      "cell_type": "code",
      "metadata": {
        "id": "YCPPkFWUhP96",
        "colab_type": "code",
        "colab": {}
      },
      "source": [
        "ws=wordnet.synsets('work')  # lemma word pass\n"
      ],
      "execution_count": 0,
      "outputs": []
    },
    {
      "cell_type": "code",
      "metadata": {
        "id": "ixjh2p9HhaLe",
        "colab_type": "code",
        "colab": {
          "base_uri": "https://localhost:8080/",
          "height": 34
        },
        "outputId": "064a4b6e-95db-4835-83a9-a21af8aef8c2"
      },
      "source": [
        "len(ws)"
      ],
      "execution_count": 18,
      "outputs": [
        {
          "output_type": "execute_result",
          "data": {
            "text/plain": [
              "34"
            ]
          },
          "metadata": {
            "tags": []
          },
          "execution_count": 18
        }
      ]
    },
    {
      "cell_type": "code",
      "metadata": {
        "id": "jldt587YhyCX",
        "colab_type": "code",
        "colab": {
          "base_uri": "https://localhost:8080/",
          "height": 34
        },
        "outputId": "91e5032f-3dc4-45a9-8be5-83aec1fe917c"
      },
      "source": [
        "ws[0].definition()"
      ],
      "execution_count": 19,
      "outputs": [
        {
          "output_type": "execute_result",
          "data": {
            "text/plain": [
              "'activity directed toward making or doing something'"
            ]
          },
          "metadata": {
            "tags": []
          },
          "execution_count": 19
        }
      ]
    },
    {
      "cell_type": "code",
      "metadata": {
        "id": "yOj_YA1eh7R6",
        "colab_type": "code",
        "colab": {
          "base_uri": "https://localhost:8080/",
          "height": 34
        },
        "outputId": "e8535657-fe38-4eaf-f37c-7c35bd48b0f5"
      },
      "source": [
        "ws[1].definition()"
      ],
      "execution_count": 20,
      "outputs": [
        {
          "output_type": "execute_result",
          "data": {
            "text/plain": [
              "'a product produced or accomplished through the effort or activity or agency of a person or thing'"
            ]
          },
          "metadata": {
            "tags": []
          },
          "execution_count": 20
        }
      ]
    },
    {
      "cell_type": "code",
      "metadata": {
        "id": "tRQEwCy_iAe5",
        "colab_type": "code",
        "colab": {
          "base_uri": "https://localhost:8080/",
          "height": 34
        },
        "outputId": "e8c643c3-e1fd-4758-b64b-4da2cf90daa2"
      },
      "source": [
        "ws[0].examples()"
      ],
      "execution_count": 21,
      "outputs": [
        {
          "output_type": "execute_result",
          "data": {
            "text/plain": [
              "['she checked several points needing further work']"
            ]
          },
          "metadata": {
            "tags": []
          },
          "execution_count": 21
        }
      ]
    },
    {
      "cell_type": "code",
      "metadata": {
        "id": "TAENm5JLii3j",
        "colab_type": "code",
        "colab": {
          "base_uri": "https://localhost:8080/",
          "height": 102
        },
        "outputId": "bc330ab0-4dbb-41da-d041-07a7519a41cb"
      },
      "source": [
        "ws[1].examples()"
      ],
      "execution_count": 22,
      "outputs": [
        {
          "output_type": "execute_result",
          "data": {
            "text/plain": [
              "['it is not regarded as one of his more memorable works',\n",
              " 'the symphony was hailed as an ingenious work',\n",
              " 'he was indebted to the pioneering work of John Dewey',\n",
              " 'the work of an active imagination',\n",
              " 'erosion is the work of wind or water over time']"
            ]
          },
          "metadata": {
            "tags": []
          },
          "execution_count": 22
        }
      ]
    },
    {
      "cell_type": "code",
      "metadata": {
        "id": "0ZlMYIxEimkT",
        "colab_type": "code",
        "colab": {}
      },
      "source": [
        "# exploring all the books\n",
        "import time\n",
        "msg=input('enter your key word you want ti know about:--')\n",
        "for i in wordnet.synsets(msg):  \n",
        " print(\"______\")\n",
        "print(i.definition())\n",
        "print(\"_______\")\n",
        "print(i.examples())\n",
        "time.sleep()"
      ],
      "execution_count": 0,
      "outputs": []
    },
    {
      "cell_type": "code",
      "metadata": {
        "id": "UMm5phrvj2Tb",
        "colab_type": "code",
        "colab": {}
      },
      "source": [
        "vc"
      ],
      "execution_count": 0,
      "outputs": []
    }
  ]
}